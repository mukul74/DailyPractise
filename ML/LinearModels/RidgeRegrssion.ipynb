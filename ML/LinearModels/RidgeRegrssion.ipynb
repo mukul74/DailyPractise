{
 "cells": [
  {
   "cell_type": "markdown",
   "metadata": {},
   "source": [
    "# Ridge Regression\n",
    "Ridge regression places a penalty on the size of coefficients in an effort to address the issues with Ordinary Least Square (OLS).\n",
    "\n",
    "$ \\underset{w}{min}\\left\\| Xw - y\\right\\|_2^{2} + alpha\\left\\|w\\right\\|_2^{2}$\n",
    "\n",
    "* alpha parameter controls the amount of shrinkage, alpha increases leads to shrinkage of coefficients. This leads to more robustness in collinearity.\n",
    "* Performs L2 regularization, meaning adding the squared of the magnitudes."
   ]
  },
  {
   "cell_type": "markdown",
   "metadata": {},
   "source": [
    "### Let's explore the $alpha$ parameter "
   ]
  },
  {
   "cell_type": "code",
   "execution_count": null,
   "metadata": {},
   "outputs": [],
   "source": []
  }
 ],
 "metadata": {
  "kernelspec": {
   "display_name": "Python 3.7.11 ('MasterEnv')",
   "language": "python",
   "name": "python3"
  },
  "language_info": {
   "codemirror_mode": {
    "name": "ipython",
    "version": 3
   },
   "file_extension": ".py",
   "mimetype": "text/x-python",
   "name": "python",
   "nbconvert_exporter": "python",
   "pygments_lexer": "ipython3",
   "version": "3.7.11"
  },
  "orig_nbformat": 4,
  "vscode": {
   "interpreter": {
    "hash": "21524a3d73d3b5bda7c6f19a3d8bb58cbe4093157239961636bf441e5c3b4dda"
   }
  }
 },
 "nbformat": 4,
 "nbformat_minor": 2
}
